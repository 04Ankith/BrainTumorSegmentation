{
 "cells": [
  {
   "cell_type": "code",
   "execution_count": null,
   "id": "1e061bc8-8c2e-424f-a5e7-b69d60230c24",
   "metadata": {},
   "outputs": [],
   "source": [
    "import os\n",
    "import cv2\n",
    "import numpy as np\n",
    "import nibabel as nib\n",
    "import matplotlib.pyplot as plt\n",
    "from tensorflow.keras.models import load_model\n",
    "# === Load trained model ===\n",
    "model = load_model(\"../models/unet1.h5\", compile=False)\n",
    "# === Load and normalize NIfTI slices ===\n",
    "def load_nifti_slices(nifti_path, target_shape=(128, 128)):\n",
    "    nii = nib.load(nifti_path)\n",
    "    volume = nii.get_fdata()\n",
    "    volume = (volume - np.min(volume)) / (np.max(volume) - np.min(volume) + 1e-8)\n",
    "    resized_slices = [cv2.resize(volume[:, :, i], target_shape) for i in range(volume.shape[2])]\n",
    "    return np.array(resized_slices), volume.shape\n",
    "# === Apply color mask ===\n",
    "def apply_mask(mask, class_val, color):\n",
    "    overlay = np.zeros((*mask.shape, 3), dtype=np.uint8)\n",
    "    overlay[mask == class_val] = color\n",
    "    return overlay\n",
    "# === Display predictions with overlays ===\n",
    "def predict_and_display(nifti_path):\n",
    "    slices, orig_shape = load_nifti_slices(nifti_path)\n",
    "    for i in range(min(151, slices.shape[0])):\n",
    "        input_img = slices[i]\n",
    "        input_tensor = input_img[np.newaxis, ..., np.newaxis].astype(np.float32)\n",
    "        pred = model.predict(input_tensor)[0]         # Shape: (128, 128, 4)\n",
    "        pred_mask = np.argmax(pred, axis=-1)          # Shape: (128, 128)\n",
    "        input_rgb = np.stack([input_img] * 3, axis=-1)\n",
    "        input_rgb = (input_rgb * 255).astype(np.uint8)\n",
    "        # Individual masks\n",
    "        enh_tumor = apply_mask(pred_mask, 3, [255, 0, 0])      # Red\n",
    "        non_enh = apply_mask(pred_mask, 1, [0, 0, 255])        # Blue\n",
    "        flair = apply_mask(pred_mask, 2, [255, 255, 0])        # Yellow\n",
    "        # Plot everything\n",
    "        fig, axs = plt.subplots(1, 4, figsize=(20, 5))\n",
    "        axs[0].imshow(input_rgb)\n",
    "        axs[0].set_title(f\"Input Slice {i}\")\n",
    "        axs[1].imshow(enh_tumor)\n",
    "        axs[1].set_title(\"Enhancing Tumor (Red)\")\n",
    "        axs[2].imshow(non_enh)\n",
    "        axs[2].set_title(\"Non-Enhancing Tumor (Blue)\")\n",
    "        axs[3].imshow(flair)\n",
    "        axs[3].set_title(\"FLAIR Hyperintensity (Yellow)\")\n",
    "        for ax in axs:\n",
    "            ax.axis('off')\n",
    "        plt.tight_layout()\n",
    "        plt.show()\n",
    "# === Run prediction display ===\n",
    "predict_and_display(\"C:/Users/manju/OneDrive/Desktop/Brain Tumour/data/brats-men-train/BraTS-MEN-00010-000/BraTS-MEN-00010-000-t1c.nii\")\n"
   ]
  }
 ],
 "metadata": {
  "kernelspec": {
   "display_name": "Python 3 (ipykernel)",
   "language": "python",
   "name": "python3"
  },
  "language_info": {
   "codemirror_mode": {
    "name": "ipython",
    "version": 3
   },
   "file_extension": ".py",
   "mimetype": "text/x-python",
   "name": "python",
   "nbconvert_exporter": "python",
   "pygments_lexer": "ipython3",
   "version": "3.9.21"
  }
 },
 "nbformat": 4,
 "nbformat_minor": 5
}
